{
 "cells": [
  {
   "cell_type": "code",
   "execution_count": 4,
   "metadata": {
    "collapsed": false,
    "scrolled": true
   },
   "outputs": [
    {
     "name": "stdout",
     "output_type": "stream",
     "text": [
      "The autoreload extension is already loaded. To reload it, use:\n",
      "  %reload_ext autoreload\n"
     ]
    }
   ],
   "source": [
    "import matplotlib\n",
    "import matplotlib.pyplot as pt\n",
    "%matplotlib inline\n",
    "matplotlib.style.use('ggplot')\n",
    "\n",
    "import torch\n",
    "import torch.optim as optim\n",
    "\n",
    "from envs.my_mdp import StochasticMDPEnv\n",
    "from envs.tetris import Tetris\n",
    "from agents.my_hdqn_agent import hDQN, OptimizerSpec\n",
    "from my_hdqn_learning import hdqn_learning\n",
    "from utils.plotting import plot_episode_stats, plot_visited_states\n",
    "from utils.schedule import LinearSchedule\n",
    "\n",
    "# for auto-reloading external modules\n",
    "# see http://stackoverflow.com/questions/1907993/autoreload-of-modules-in-ipython\n",
    "%load_ext autoreload\n",
    "%autoreload 2"
   ]
  },
  {
   "cell_type": "code",
   "execution_count": 5,
   "metadata": {
    "collapsed": false
   },
   "outputs": [],
   "source": [
    "NUM_EPISODES = 1000\n",
    "# NUM_EPISODES = 12000\n",
    "BATCH_SIZE = 128\n",
    "GAMMA = 0.99\n",
    "REPLAY_MEMORY_SIZE = 10000\n",
    "LR = 1e-4\n",
    "\n",
    "\n",
    "optimizer_spec = OptimizerSpec(\n",
    "    constructor=optim.AdamW,\n",
    "    kwargs=dict(lr=LR, amsgrad=True),\n",
    ")\n",
    "\n",
    "exploration_schedule = LinearSchedule(5000, 0.1, 1)\n",
    "\n",
    "num_rows, num_cols = 10, 4\n",
    "env = Tetris(num_rows, num_cols)\n",
    "\n",
    "agent = hDQN(\n",
    "    optimizer_spec=optimizer_spec,\n",
    "    replay_memory_size=REPLAY_MEMORY_SIZE,\n",
    "    batch_size=BATCH_SIZE,\n",
    "    num_goal=4,\n",
    "    num_action=4 * num_cols,\n",
    "    num_meta_in=num_rows * num_cols + 4*4\n",
    ")\n",
    "\n",
    "# env = StochasticMDPEnv()"
   ]
  },
  {
   "cell_type": "code",
   "execution_count": 6,
   "metadata": {
    "collapsed": false,
    "scrolled": false
   },
   "outputs": [
    {
     "name": "stderr",
     "output_type": "stream",
     "text": [
      "/home/eric/pytorch-hdqn/agents/my_hdqn_agent.py:78: UserWarning: volatile was removed and now has no effect. Use `with torch.no_grad():` instead.\n",
      "  return controller(Variable(state, volatile=True)).data.max(1)[1].cpu()\n",
      "/home/eric/.local/lib/python3.10/site-packages/torch/nn/modules/loss.py:928: UserWarning: Using a target size (torch.Size([128])) that is different to the input size (torch.Size([128, 1])). This will likely lead to incorrect results due to broadcasting. Please ensure they have the same size.\n",
      "  return F.smooth_l1_loss(input, target, reduction=self.reduction, beta=self.beta)\n"
     ]
    },
    {
     "name": "stdout",
     "output_type": "stream",
     "text": [
      "steps:    262 episode:    100 reward: 0.0 average: 9.48\n",
      "goals_selection: [30. 22. 26. 27.]\n",
      "steps:    485 episode:    200 reward: 0.0 average: 7.93\n",
      "goals_selection: [61. 46. 50. 50.]\n",
      "steps:    732 episode:    300 reward: 0.0 average: 6.95\n",
      "goals_selection: [92. 70. 74. 73.]\n",
      "steps:    992 episode:    400 reward: 0.0 average: 7.07\n",
      "goals_selection: [128.  94. 105.  89.]\n",
      "steps:   1256 episode:    500 reward: 0.0 average: 7.29\n",
      "goals_selection: [160. 116. 140. 105.]\n",
      "steps:   1554 episode:    600 reward: 0.0 average: 7.88\n",
      "goals_selection: [205. 147. 160. 117.]\n",
      "steps:   1815 episode:    700 reward: 0.0 average: 8.07\n",
      "goals_selection: [247. 163. 183. 139.]\n",
      "steps:   2079 episode:    800 reward: 0.0 average: 8.36\n",
      "goals_selection: [302. 178. 207. 157.]\n",
      "steps:   2377 episode:    900 reward: 0.0 average: 8.85\n",
      "goals_selection: [368. 199. 223. 167.]\n",
      "steps:   2630 episode:   1000 reward: 0.0 average: 8.65\n",
      "goals_selection: [432. 217. 236. 181.]\n"
     ]
    }
   ],
   "source": [
    "agent, stats, visits = hdqn_learning(\n",
    "    env=env,\n",
    "    agent=agent,\n",
    "    num_episodes=NUM_EPISODES,\n",
    "    exploration_schedule=exploration_schedule,\n",
    "    gamma=GAMMA,\n",
    ")\n",
    "torch.save(agent,f'agent {num_rows} {num_cols} {NUM_EPISODES}.pt')"
   ]
  },
  {
   "cell_type": "code",
   "execution_count": 7,
   "metadata": {
    "collapsed": false
   },
   "outputs": [
    {
     "data": {
      "image/png": "[encoded data removed]",
      "text/plain": [
       "<Figure size 640x480 with 1 Axes>"
      ]
     },
     "metadata": {},
     "output_type": "display_data"
    }
   ],
   "source": [
    "import numpy as np\n",
    "episode_returns = stats.episode_rewards\n",
    "window_size = 5000\n",
    "moving_average = np.convolve(episode_returns, np.ones(window_size), 'valid') / window_size\n",
    "pt.plot(moving_average)\n",
    "pt.savefig('moving_average')\n",
    "# print(sum(stats.episode_rewards))\n",
    "# plot_episode_stats(stats)"
   ]
  },
  {
   "cell_type": "code",
   "execution_count": 8,
   "metadata": {
    "collapsed": false
   },
   "outputs": [
    {
     "name": "stdout",
     "output_type": "stream",
     "text": [
      "4\n"
     ]
    }
   ],
   "source": [
    "agent = torch.load('agent 10 4 1000.pt')\n",
    "print(agent.num_goal)"
   ]
  },
  {
   "cell_type": "code",
   "execution_count": null,
   "metadata": {
    "collapsed": true
   },
   "outputs": [],
   "source": []
  }
 ],
 "metadata": {
  "anaconda-cloud": {},
  "kernelspec": {
   "display_name": "Python 3",
   "language": "python",
   "name": "python3"
  },
  "language_info": {
   "codemirror_mode": {
    "name": "ipython",
    "version": 3
   },
   "file_extension": ".py",
   "mimetype": "text/x-python",
   "name": "python",
   "nbconvert_exporter": "python",
   "pygments_lexer": "ipython3",
   "version": "3.10.7"
  }
 },
 "nbformat": 4,
 "nbformat_minor": 1
}
