{
 "cells": [
  {
   "cell_type": "code",
   "execution_count": 1,
   "metadata": {},
   "outputs": [
    {
     "name": "stdout",
     "output_type": "stream",
     "text": [
      "[[1 2 3]] [[4 5 6]]\n"
     ]
    },
    {
     "data": {
      "text/plain": [
       "array([[1, 2, 3, 4, 5, 6]])"
      ]
     },
     "execution_count": 1,
     "metadata": {},
     "output_type": "execute_result"
    }
   ],
   "source": [
    "import numpy as np\n",
    "a = np.array([1,2,3])\n",
    "a = np.expand_dims(a, axis=0)\n",
    "\n",
    "b = np.array([4,5,6])\n",
    "b = np.expand_dims(b, axis=0)\n",
    "print(a,b)\n",
    "np.concatenate([a,b], axis=1)"
   ]
  },
  {
   "cell_type": "code",
   "execution_count": 2,
   "metadata": {},
   "outputs": [
    {
     "name": "stdout",
     "output_type": "stream",
     "text": [
      "()\n",
      "(1,)\n"
     ]
    }
   ],
   "source": [
    "type(np.floor(2000/1000))\n",
    "print(np.array(1000).shape)\n",
    "print(np.array([1000]).shape)"
   ]
  },
  {
   "cell_type": "code",
   "execution_count": 4,
   "metadata": {},
   "outputs": [
    {
     "name": "stdout",
     "output_type": "stream",
     "text": [
      "goal         : [0 0 0 0 0 0 0 0 0 0 0 0 0 0 0 0]\n",
      "initial_state: [0 0 0 0 0 0 0 0 0 0 0 0 0 0 0 0 1 1 0 0 1 1 0 0 0 0 0 0 0 0 0 0]\n"
     ]
    }
   ],
   "source": [
    "import my_hdqn_learning\n",
    "import agents.my_hdqn_agent\n",
    "import envs.tetris\n",
    "assert my_hdqn_learning.check_goal([1,2,3],[1,2,3,4,5])\n",
    "\n",
    "num_rows, num_cols = 4, 4\n",
    "env = envs.tetris.Tetris(num_rows, num_cols)\n",
    "initial_state, _ = env.reset()\n",
    "\n",
    "goal = np.zeros(num_rows * num_cols, dtype=np.int8)\n",
    "print(f'goal         : {goal}')\n",
    "print(f'initial_state: {initial_state}')\n",
    "assert my_hdqn_learning.check_goal(goal, initial_state)\n"
   ]
  },
  {
   "cell_type": "code",
   "execution_count": 17,
   "metadata": {},
   "outputs": [
    {
     "data": {
      "text/plain": [
       "0"
      ]
     },
     "execution_count": 17,
     "metadata": {},
     "output_type": "execute_result"
    }
   ],
   "source": [
    "import random\n",
    "random.randrange(2)"
   ]
  }
 ],
 "metadata": {
  "kernelspec": {
   "display_name": "Python 3",
   "language": "python",
   "name": "python3"
  },
  "language_info": {
   "codemirror_mode": {
    "name": "ipython",
    "version": 3
   },
   "file_extension": ".py",
   "mimetype": "text/x-python",
   "name": "python",
   "nbconvert_exporter": "python",
   "pygments_lexer": "ipython3",
   "version": "3.10.7"
  },
  "orig_nbformat": 4
 },
 "nbformat": 4,
 "nbformat_minor": 2
}
